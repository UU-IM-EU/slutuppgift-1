{
 "cells": [
  {
   "cell_type": "markdown",
   "metadata": {},
   "source": [
    "# Data Analytics slutuppgift 1: Utforska och gör prediktioner på trafikdata"
   ]
  },
  {
   "cell_type": "markdown",
   "metadata": {},
   "source": [
    "## Bakgrund\n",
    "\n",
    "Du har fått jobb som data analytiker på ett startup bolag som vill börja sälja en tjänst till smarta städer. Affärsidén går ut på att förenklapolisens arbete genom att förutspå trafikhändelser. \n",
    "\n",
    "Som första steg i ditt arbete har du lokaliserat ett dataset medhistorik om incidenter i trafiken. Med detta dataset avser du testköra ett antal prediktioner för att utöka din kunskap om domänen och hitta lämpliga modeller för prediktion. \n",
    "\n",
    "Datasetet ligger i kursens github på följande adress: https://github.com/UU-IM-EU/slutuppgift-1 \n",
    "\n",
    "Det är valfritt om du vill använda hela eller delar av detta dataset, alla val du gör behöver dock explicit beskrivas och motiveras. \n",
    "\n",
    "För ytterligare instruktioner, se presentationen av slutuppgift 1&2."
   ]
  },
  {
   "cell_type": "markdown",
   "metadata": {},
   "source": [
    "## Problembeskrivning\n",
    "\n",
    "Du ska använda ditt dataset för att identifiera ett antal (minst 2) lämpliga prediktioner som är möjliga att genomföra på den data du har tillgång till. Du ska testa 3 modeller för varje prediktion (minst 3 olika modellerska testas men gärna fler beroende på fråga). \n",
    "\n",
    "Du vill använda ditt dataset för att identifiera vilken data som behövs för att kunna utveckla tjänsten samt för att utvärdera vilken kvalitet som krävs och hur pre-processing bör genomföras. I ditt arbete vill du också identidiera potentiella probelm utifrån etiska aspekter. \n",
    "\n",
    "Använd kunskaper du inhämtat tidigare under kursen, det är heltok att använda kod från exempelvis tidigare laborationer och övningar som finns på kursens GitHub. "
   ]
  },
  {
   "cell_type": "markdown",
   "metadata": {},
   "source": [
    "## Rättning\n",
    "\n",
    "Uppgiften ger totalt 100 poäng, för godkänt behöver du minst 80 poäng. Hur många poäng varje deluppgift ger syns i varje del. "
   ]
  },
  {
   "cell_type": "code",
   "execution_count": null,
   "metadata": {},
   "outputs": [],
   "source": [
    "# Add your imports. Add more if you need them\n",
    "import pandas as pd\n",
    "import numpy as np"
   ]
  },
  {
   "cell_type": "markdown",
   "metadata": {},
   "source": [
    "## Data collection\n",
    "\n",
    "Ladda in ditt dataset (10 poäng)."
   ]
  },
  {
   "cell_type": "code",
   "execution_count": null,
   "metadata": {},
   "outputs": [],
   "source": [
    "# Add your own code to load the dataset using Pandas"
   ]
  },
  {
   "cell_type": "markdown",
   "metadata": {},
   "source": [
    "## Data preprocessing\n",
    "\n",
    "Utvärdera kvaliteten på ditt data och genomför nödvändig pre-processing för att adressera dessa kvalitetsbrister. (30 poäng).\n",
    "\n",
    "*Hint: Think about whether you need to find and drop any rows because of missing or duplicate data, or if you need to drop any columns that might not be relevant.*"
   ]
  },
  {
   "cell_type": "code",
   "execution_count": null,
   "metadata": {},
   "outputs": [],
   "source": [
    "# Add your own code to do any data preprocessing steps you think are necessary"
   ]
  },
  {
   "cell_type": "markdown",
   "metadata": {},
   "source": [
    "## Utforska och visualisera data \n",
    "Producera statistik från ditt dataset. Utforska data genom att använda visualiering, och demonstrera att du behörskar ett antal olika sätt att visualisera data i grafiskt form. Minst ett histogram och ett spridningsdiagram ska uppvisas i denna del för full poäng. (30 poäng)."
   ]
  },
  {
   "cell_type": "code",
   "execution_count": null,
   "metadata": {},
   "outputs": [],
   "source": [
    "# Add your own code to do any descriptive statistics or visualizations to explore your data"
   ]
  },
  {
   "cell_type": "markdown",
   "metadata": {},
   "source": [
    "## Predictiv modellering\n",
    "\n",
    "Skapa prediktiva modeller från ert dataset. Visa att du kan behärska prediktion av kontinuerliga och diskreta värden. VIsa även att du behärskar prediktion med flera variabler. \n",
    "\n",
    "Jämför minst tre olika modeller på samtlia dina olika prediktionsfrågor (minst två frågor) \n",
    "\n",
    "För att få full poäng ska du jämföra minst 3 olika prediktiva modeller och genomföra minst 2 prediktioner (envariabel och flervariabel). (30 poäng).\n",
    "\n",
    "*Hint: Think about whether you wish to do regression analysis or train a machine learning classifier (such as decision tree model or SVM).*"
   ]
  },
  {
   "cell_type": "code",
   "execution_count": null,
   "metadata": {},
   "outputs": [],
   "source": [
    "# Add your own code to do predictive modelling on your data"
   ]
  }
 ],
 "metadata": {
  "kernelspec": {
   "display_name": "Python 3",
   "language": "python",
   "name": "python3"
  },
  "language_info": {
   "codemirror_mode": {
    "name": "ipython",
    "version": 3
   },
   "file_extension": ".py",
   "mimetype": "text/x-python",
   "name": "python",
   "nbconvert_exporter": "python",
   "pygments_lexer": "ipython3",
   "version": "3.7.4"
  }
 },
 "nbformat": 4,
 "nbformat_minor": 2
}
